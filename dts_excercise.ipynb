{
 "cells": [
  {
   "cell_type": "code",
<<<<<<< HEAD
   "execution_count": 61,
=======
   "execution_count": 60,
>>>>>>> a150fd4c9cbd1e98a6f1da3a91c6e3c4dd45a31c
   "id": "86e0b763",
   "metadata": {},
   "outputs": [
    {
     "name": "stdout",
     "output_type": "stream",
     "text": [
<<<<<<< HEAD
      "{'Records Counted': 2}\n"
=======
      "{'Records Counted': 6}\n"
>>>>>>> a150fd4c9cbd1e98a6f1da3a91c6e3c4dd45a31c
     ]
    }
   ],
   "source": [
    "import pandas as pd\n",
    "import numpy as np\n",
    "data = {\n",
    "         'Scores': [50, 80, 85, 75, 95, 109],\n",
    "         'Position': ['Goalkeeper', 'Striker', 'Midfielder', 'Striker', 'Winger', 'Goalkeeper'],\n",
    "         'is_Active': [True, False, False, True, False, True]\n",
    "        }\n",
    "index = ['a', 'b', 'c', 'd', 'e', 'f']\n",
    "\n",
    "def read_data(data: dict, index: list = index) -> pd.DataFrame:\n",
    "    return pd.DataFrame(data, index)\n",
    "\n",
    "def filter_data(df: pd.DataFrame, filt_cond: str) -> pd.DataFrame:\n",
    "    # df = df[df['Position'] == filt_cond]\n",
    "    df = df.loc[lambda df: df['Position'] == filt_cond]\n",
    "    return df\n",
    "\n",
    "def remove_column(df: pd.DataFrame, col_name: str) -> pd.DataFrame:\n",
    "     df_new = df.drop(columns=[col_name])\n",
    "     return df_new\n",
    "\n",
    "def count_records(df: pd.DataFrame) -> dict[str, int]:\n",
    "     return {\"Records Counted\": len(df)}\n",
    "    \n",
    "def main():\n",
    "        df = read_data(data)\n",
<<<<<<< HEAD
    "        df = filter_data(df, filt_cond='Striker')\n",
=======
    "        filter_data(df, filt_cond='Striker')\n",
>>>>>>> a150fd4c9cbd1e98a6f1da3a91c6e3c4dd45a31c
    "        df_dropped = remove_column(df, 'is_Active')\n",
    "        total = count_records(df_dropped)\n",
    "        print(total)\n",
    "\n",
    "\n",
    "if __name__ == '__main__':\n",
    "     main()"
   ]
  }
 ],
 "metadata": {
  "kernelspec": {
   "display_name": "Python 3",
   "language": "python",
   "name": "python3"
  },
  "language_info": {
   "codemirror_mode": {
    "name": "ipython",
    "version": 3
   },
   "file_extension": ".py",
   "mimetype": "text/x-python",
   "name": "python",
   "nbconvert_exporter": "python",
   "pygments_lexer": "ipython3",
   "version": "3.11.9"
  }
 },
 "nbformat": 4,
 "nbformat_minor": 5
}
