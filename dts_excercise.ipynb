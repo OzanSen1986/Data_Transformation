{
 "cells": [
  {
   "cell_type": "code",
   "execution_count": 99,
   "id": "9a250aa7",
   "metadata": {},
   "outputs": [],
   "source": [
    "import pandas as pd\n",
    "import numpy as np"
   ]
  },
  {
   "cell_type": "code",
   "execution_count": 100,
   "id": "86e0b763",
   "metadata": {},
   "outputs": [
    {
     "data": {
      "text/html": [
       "<div>\n",
       "<style scoped>\n",
       "    .dataframe tbody tr th:only-of-type {\n",
       "        vertical-align: middle;\n",
       "    }\n",
       "\n",
       "    .dataframe tbody tr th {\n",
       "        vertical-align: top;\n",
       "    }\n",
       "\n",
       "    .dataframe thead th {\n",
       "        text-align: right;\n",
       "    }\n",
       "</style>\n",
       "<table border=\"1\" class=\"dataframe\">\n",
       "  <thead>\n",
       "    <tr style=\"text-align: right;\">\n",
       "      <th></th>\n",
       "      <th>Scores</th>\n",
       "      <th>Position</th>\n",
       "      <th>is_Active</th>\n",
       "    </tr>\n",
       "  </thead>\n",
       "  <tbody>\n",
       "    <tr>\n",
       "      <th>Player1</th>\n",
       "      <td>50</td>\n",
       "      <td>GoalKeeper</td>\n",
       "      <td>True</td>\n",
       "    </tr>\n",
       "    <tr>\n",
       "      <th>Player2</th>\n",
       "      <td>80</td>\n",
       "      <td>Striker</td>\n",
       "      <td>False</td>\n",
       "    </tr>\n",
       "    <tr>\n",
       "      <th>Player3</th>\n",
       "      <td>85</td>\n",
       "      <td>Midfielder</td>\n",
       "      <td>False</td>\n",
       "    </tr>\n",
       "    <tr>\n",
       "      <th>Player4</th>\n",
       "      <td>75</td>\n",
       "      <td>Striker</td>\n",
       "      <td>True</td>\n",
       "    </tr>\n",
       "    <tr>\n",
       "      <th>Player5</th>\n",
       "      <td>95</td>\n",
       "      <td>Winger</td>\n",
       "      <td>False</td>\n",
       "    </tr>\n",
       "    <tr>\n",
       "      <th>Player6</th>\n",
       "      <td>109</td>\n",
       "      <td>Goalkeeper</td>\n",
       "      <td>True</td>\n",
       "    </tr>\n",
       "  </tbody>\n",
       "</table>\n",
       "</div>"
      ],
      "text/plain": [
       "         Scores    Position  is_Active\n",
       "Player1      50  GoalKeeper       True\n",
       "Player2      80     Striker      False\n",
       "Player3      85  Midfielder      False\n",
       "Player4      75     Striker       True\n",
       "Player5      95      Winger      False\n",
       "Player6     109  Goalkeeper       True"
      ]
     },
     "execution_count": 100,
     "metadata": {},
     "output_type": "execute_result"
    }
   ],
   "source": [
    "df = pd.DataFrame(\n",
    "        {\n",
    "         'Scores': [50, 80, 85, 75, 95, 109],\n",
    "         'Position': ['GoalKeeper', 'Striker', 'Midfielder', 'Striker', 'Winger', 'Goalkeeper'],\n",
    "         'is_Active': [True, False, False, True, False, True]\n",
    "        }, index = ['Player1', 'Player2', 'Player3', 'Player4', 'Player5', 'Player6']\n",
    "        )\n",
    "df         "
   ]
  },
  {
   "cell_type": "code",
   "execution_count": 101,
   "id": "76c771e5",
   "metadata": {},
   "outputs": [
    {
     "data": {
      "text/plain": [
       "Player1    GoalKeeper\n",
       "Player2       Striker\n",
       "Player3    Midfielder\n",
       "Name: Position, dtype: object"
      ]
     },
     "execution_count": 101,
     "metadata": {},
     "output_type": "execute_result"
    }
   ],
   "source": [
    "df.loc['Player1': 'Player3', 'Position']\n"
   ]
  },
  {
   "cell_type": "code",
   "execution_count": 102,
   "id": "a953e926",
   "metadata": {},
   "outputs": [
    {
     "data": {
      "text/html": [
       "<div>\n",
       "<style scoped>\n",
       "    .dataframe tbody tr th:only-of-type {\n",
       "        vertical-align: middle;\n",
       "    }\n",
       "\n",
       "    .dataframe tbody tr th {\n",
       "        vertical-align: top;\n",
       "    }\n",
       "\n",
       "    .dataframe thead th {\n",
       "        text-align: right;\n",
       "    }\n",
       "</style>\n",
       "<table border=\"1\" class=\"dataframe\">\n",
       "  <thead>\n",
       "    <tr style=\"text-align: right;\">\n",
       "      <th></th>\n",
       "      <th>Scores</th>\n",
       "      <th>Position</th>\n",
       "      <th>is_Active</th>\n",
       "    </tr>\n",
       "  </thead>\n",
       "  <tbody>\n",
       "    <tr>\n",
       "      <th>Player6</th>\n",
       "      <td>109</td>\n",
       "      <td>Goalkeeper</td>\n",
       "      <td>True</td>\n",
       "    </tr>\n",
       "  </tbody>\n",
       "</table>\n",
       "</div>"
      ],
      "text/plain": [
       "         Scores    Position  is_Active\n",
       "Player6     109  Goalkeeper       True"
      ]
     },
     "execution_count": 102,
     "metadata": {},
     "output_type": "execute_result"
    }
   ],
   "source": [
    "df.loc[(df['Scores'] > 75) & (df['is_Active'] == True)]"
   ]
  }
 ],
 "metadata": {
  "kernelspec": {
   "display_name": "Python 3",
   "language": "python",
   "name": "python3"
  },
  "language_info": {
   "codemirror_mode": {
    "name": "ipython",
    "version": 3
   },
   "file_extension": ".py",
   "mimetype": "text/x-python",
   "name": "python",
   "nbconvert_exporter": "python",
   "pygments_lexer": "ipython3",
   "version": "3.11.9"
  }
 },
 "nbformat": 4,
 "nbformat_minor": 5
}
